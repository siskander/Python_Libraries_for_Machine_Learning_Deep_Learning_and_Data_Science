{
 "cells": [
  {
   "cell_type": "markdown",
   "metadata": {},
   "source": [
    "# Programming Interview Questions And Answers For Data Science\n",
    "\n",
    "### 1. How do you get a list of all the keys in a dictionary?\n",
    "- To get a list of all the keys in a dictionary, we use the .keys() function.\n",
    "- Consider the below dictionary that has the country names as keys and their capitals as values.\n",
    "\n",
    "#### Questions\n",
    "- Get keys as a list and values as a list from a certain dictionary. "
   ]
  },
  {
   "cell_type": "code",
   "execution_count": 82,
   "metadata": {},
   "outputs": [
    {
     "name": "stdout",
     "output_type": "stream",
     "text": [
      "dict_keys(['USA', 'India', 'France', 'Spain', 'Germany'])\n",
      "<class 'dict_keys'>\n",
      "['USA', 'India', 'France', 'Spain', 'Germany']\n",
      "<class 'list'>\n",
      "USA\n",
      "dict_values(['Washington D.C.', 'New Delhi', 'Paris', 'Madrid', 'Berlin'])\n",
      "<class 'dict_values'>\n",
      "['Washington D.C.', 'New Delhi', 'Paris', 'Madrid', 'Berlin']\n",
      "<class 'list'>\n",
      "Washington D.C.\n"
     ]
    }
   ],
   "source": [
    "dic = {'USA':'Washington D.C.', 'India':'New Delhi', 'France':'Paris', 'Spain':'Madrid', 'Germany':'Berlin'}\n",
    "\n",
    "keys = dic.keys()\n",
    "print(keys)\n",
    "print(type(keys))\n",
    "\n",
    "keys_list = list(keys)\n",
    "print(keys_list)\n",
    "print(type(keys_list))\n",
    "print(keys_list[0])\n",
    "\n",
    "values = dic.values()\n",
    "print(values)\n",
    "print(type(values))\n",
    "\n",
    "values_list = list(values)\n",
    "print(values_list)\n",
    "print(type(values_list))\n",
    "print(values_list[0])"
   ]
  },
  {
   "cell_type": "markdown",
   "metadata": {},
   "source": [
    "### 2. What do you mean by List Comprehension in Python? \n",
    "\n",
    "- List Comprehensions are a short and elegant way to define and create new lists based on existing lists.\n",
    "\n",
    "#### Questions\n",
    "- Get the a squares of a list.\n",
    "- Get the evene numbers of a list.  "
   ]
  },
  {
   "cell_type": "code",
   "execution_count": 14,
   "metadata": {},
   "outputs": [
    {
     "name": "stdout",
     "output_type": "stream",
     "text": [
      "[1, 4, 9, 16]\n",
      "[2, 4]\n"
     ]
    }
   ],
   "source": [
    "a = [1,2,3,4]\n",
    "squares_of_list = [item*item for item in a]\n",
    "print(squares_of_list)\n",
    "\n",
    "even_numbers = [item for item in a if item%2 == 0]\n",
    "print(even_numbers)"
   ]
  },
  {
   "cell_type": "markdown",
   "metadata": {},
   "source": [
    "### 3. Given a list of numbers, find the squares of the numbers using the map function in Python.\n",
    "\n",
    "- The map() function calls the specified function for each element of an iterable and returns a list of results."
   ]
  },
  {
   "cell_type": "code",
   "execution_count": 15,
   "metadata": {},
   "outputs": [
    {
     "name": "stdout",
     "output_type": "stream",
     "text": [
      "[1, 4, 9, 16]\n"
     ]
    }
   ],
   "source": [
    "l = [1,2,3,4]\n",
    "squares = lambda x: x*x\n",
    "\n",
    "mapped_list = list(map(squares, l))\n",
    "print(mapped_list)"
   ]
  },
  {
   "cell_type": "markdown",
   "metadata": {},
   "source": [
    "### 4. Write a program to filter out the numbers divisible by 3 from a tuple using lambda function in another tuple.\n",
    "\n",
    "- Lambda functions are anonymous functions that are not defined by def keyword in Python. "
   ]
  },
  {
   "cell_type": "code",
   "execution_count": 17,
   "metadata": {},
   "outputs": [
    {
     "name": "stdout",
     "output_type": "stream",
     "text": [
      "(3, 6, 9)\n"
     ]
    }
   ],
   "source": [
    "t = (1,2,3,4,5,6,7,8,9,10)\n",
    "divisible_by_3 = lambda x: x%3 == 0\n",
    "\n",
    "filtered_tuple = tuple(filter(divisible_by_3, t))\n",
    "print(filtered_tuple)"
   ]
  },
  {
   "cell_type": "markdown",
   "metadata": {},
   "source": [
    "### 5. How to create a dataframe from a dictionary?\n",
    "- To create a dataframe from dictionary, use the Pandas library and .DataFrame() function"
   ]
  },
  {
   "cell_type": "code",
   "execution_count": 28,
   "metadata": {},
   "outputs": [
    {
     "data": {
      "text/html": [
       "<div>\n",
       "<style scoped>\n",
       "    .dataframe tbody tr th:only-of-type {\n",
       "        vertical-align: middle;\n",
       "    }\n",
       "\n",
       "    .dataframe tbody tr th {\n",
       "        vertical-align: top;\n",
       "    }\n",
       "\n",
       "    .dataframe thead th {\n",
       "        text-align: right;\n",
       "    }\n",
       "</style>\n",
       "<table border=\"1\" class=\"dataframe\">\n",
       "  <thead>\n",
       "    <tr style=\"text-align: right;\">\n",
       "      <th></th>\n",
       "      <th>Name</th>\n",
       "      <th>Age</th>\n",
       "      <th>City</th>\n",
       "    </tr>\n",
       "  </thead>\n",
       "  <tbody>\n",
       "    <tr>\n",
       "      <th>0</th>\n",
       "      <td>Ammy</td>\n",
       "      <td>35</td>\n",
       "      <td>NYC</td>\n",
       "    </tr>\n",
       "    <tr>\n",
       "      <th>1</th>\n",
       "      <td>Angela</td>\n",
       "      <td>36</td>\n",
       "      <td>Chicago</td>\n",
       "    </tr>\n",
       "    <tr>\n",
       "      <th>2</th>\n",
       "      <td>Samuel</td>\n",
       "      <td>30</td>\n",
       "      <td>Boston</td>\n",
       "    </tr>\n",
       "    <tr>\n",
       "      <th>3</th>\n",
       "      <td>Danny</td>\n",
       "      <td>32</td>\n",
       "      <td>Seattle</td>\n",
       "    </tr>\n",
       "  </tbody>\n",
       "</table>\n",
       "</div>"
      ],
      "text/plain": [
       "     Name  Age     City\n",
       "0    Ammy   35      NYC\n",
       "1  Angela   36  Chicago\n",
       "2  Samuel   30   Boston\n",
       "3   Danny   32  Seattle"
      ]
     },
     "execution_count": 28,
     "metadata": {},
     "output_type": "execute_result"
    }
   ],
   "source": [
    "import pandas as pd\n",
    "\n",
    "dic = {'Name': ['Ammy', 'Angela', 'Samuel', 'Danny'],\n",
    "       'Age': [35, 36, 30, 32],\n",
    "       'City': ['NYC', 'Chicago', 'Boston', 'Seattle']    \n",
    "      }\n",
    "\n",
    "df = pd.DataFrame(dic)\n",
    "\n",
    "df.head()"
   ]
  },
  {
   "cell_type": "code",
   "execution_count": 29,
   "metadata": {},
   "outputs": [
    {
     "data": {
      "text/plain": [
       "pandas.core.frame.DataFrame"
      ]
     },
     "execution_count": 29,
     "metadata": {},
     "output_type": "execute_result"
    }
   ],
   "source": [
    "type(df)"
   ]
  },
  {
   "cell_type": "markdown",
   "metadata": {},
   "source": [
    "### 6. What is the difference between loc() and iloc() in Python?\n",
    "\n",
    "- **loc()** stands for location. It uses row or column labels to select and slice data from a dataframe.\n",
    "- **iloc()** stands for index location. It uses integer index to select specified rows and columns.\n",
    "\n",
    "#### Questions\n",
    "\n",
    "1. Create a dictionary about cars and convert it to a data frame.\n",
    "1. Use loc() and iloc() to select the following partitions:\n",
    "    1. rows [2 to 5] for Brand and City columns.\n",
    "    1. rows [2 to 4] for Years, Kms, City columns.\n",
    "    1. rows that have mileage < 25 for Brand and City columns. "
   ]
  },
  {
   "cell_type": "code",
   "execution_count": 45,
   "metadata": {},
   "outputs": [
    {
     "data": {
      "text/html": [
       "<div>\n",
       "<style scoped>\n",
       "    .dataframe tbody tr th:only-of-type {\n",
       "        vertical-align: middle;\n",
       "    }\n",
       "\n",
       "    .dataframe tbody tr th {\n",
       "        vertical-align: top;\n",
       "    }\n",
       "\n",
       "    .dataframe thead th {\n",
       "        text-align: right;\n",
       "    }\n",
       "</style>\n",
       "<table border=\"1\" class=\"dataframe\">\n",
       "  <thead>\n",
       "    <tr style=\"text-align: right;\">\n",
       "      <th></th>\n",
       "      <th>Brand</th>\n",
       "      <th>Year</th>\n",
       "      <th>Kms</th>\n",
       "      <th>City</th>\n",
       "      <th>Mileage</th>\n",
       "    </tr>\n",
       "  </thead>\n",
       "  <tbody>\n",
       "    <tr>\n",
       "      <th>0</th>\n",
       "      <td>Ford</td>\n",
       "      <td>2016</td>\n",
       "      <td>23000</td>\n",
       "      <td>Kolkata</td>\n",
       "      <td>25</td>\n",
       "    </tr>\n",
       "    <tr>\n",
       "      <th>1</th>\n",
       "      <td>Hyundai</td>\n",
       "      <td>2012</td>\n",
       "      <td>40000</td>\n",
       "      <td>Mumbai</td>\n",
       "      <td>27</td>\n",
       "    </tr>\n",
       "    <tr>\n",
       "      <th>2</th>\n",
       "      <td>Tata</td>\n",
       "      <td>2011</td>\n",
       "      <td>38000</td>\n",
       "      <td>Delhi</td>\n",
       "      <td>25</td>\n",
       "    </tr>\n",
       "    <tr>\n",
       "      <th>3</th>\n",
       "      <td>Mahindra</td>\n",
       "      <td>2010</td>\n",
       "      <td>45000</td>\n",
       "      <td>Bangalore</td>\n",
       "      <td>26</td>\n",
       "    </tr>\n",
       "    <tr>\n",
       "      <th>4</th>\n",
       "      <td>Maruti</td>\n",
       "      <td>2009</td>\n",
       "      <td>50000</td>\n",
       "      <td>Mumbai</td>\n",
       "      <td>28</td>\n",
       "    </tr>\n",
       "    <tr>\n",
       "      <th>5</th>\n",
       "      <td>Hyundai</td>\n",
       "      <td>2010</td>\n",
       "      <td>46000</td>\n",
       "      <td>Bangalore</td>\n",
       "      <td>29</td>\n",
       "    </tr>\n",
       "    <tr>\n",
       "      <th>6</th>\n",
       "      <td>Renault</td>\n",
       "      <td>2012</td>\n",
       "      <td>18000</td>\n",
       "      <td>Chennai</td>\n",
       "      <td>24</td>\n",
       "    </tr>\n",
       "    <tr>\n",
       "      <th>7</th>\n",
       "      <td>Tata</td>\n",
       "      <td>2017</td>\n",
       "      <td>9000</td>\n",
       "      <td>Bangalore</td>\n",
       "      <td>21</td>\n",
       "    </tr>\n",
       "    <tr>\n",
       "      <th>8</th>\n",
       "      <td>kia</td>\n",
       "      <td>2019</td>\n",
       "      <td>5000</td>\n",
       "      <td>Chennai</td>\n",
       "      <td>19</td>\n",
       "    </tr>\n",
       "  </tbody>\n",
       "</table>\n",
       "</div>"
      ],
      "text/plain": [
       "      Brand  Year    Kms       City  Mileage\n",
       "0      Ford  2016  23000    Kolkata       25\n",
       "1   Hyundai  2012  40000     Mumbai       27\n",
       "2      Tata  2011  38000      Delhi       25\n",
       "3  Mahindra  2010  45000  Bangalore       26\n",
       "4    Maruti  2009  50000     Mumbai       28\n",
       "5   Hyundai  2010  46000  Bangalore       29\n",
       "6   Renault  2012  18000    Chennai       24\n",
       "7      Tata  2017   9000  Bangalore       21\n",
       "8       kia  2019   5000    Chennai       19"
      ]
     },
     "execution_count": 45,
     "metadata": {},
     "output_type": "execute_result"
    }
   ],
   "source": [
    "import pandas as pd\n",
    "\n",
    "dic = {'Brand': ['Ford', 'Hyundai', 'Tata', 'Mahindra', 'Maruti', 'Hyundai', 'Renault', 'Tata', 'kia'],\n",
    "       'Year': [2016, 2012, 2011, 2010, 2009, 2010, 2012, 2017, 2019],\n",
    "       'Kms': [23000, 40000, 38000, 45000, 50000, 46000, 18000, 9000, 5000],\n",
    "       'City': ['Kolkata', 'Mumbai', 'Delhi', 'Bangalore', 'Mumbai', 'Bangalore', 'Chennai', 'Bangalore', 'Chennai'],\n",
    "       'Mileage': [25, 27, 25, 26, 28, 29, 24, 21, 19]\n",
    "      }\n",
    "\n",
    "car = pd.DataFrame(dic)\n",
    "number_of_rows = car.shape[0]\n",
    "car.head(number_of_rows)"
   ]
  },
  {
   "cell_type": "code",
   "execution_count": 46,
   "metadata": {},
   "outputs": [
    {
     "data": {
      "text/html": [
       "<div>\n",
       "<style scoped>\n",
       "    .dataframe tbody tr th:only-of-type {\n",
       "        vertical-align: middle;\n",
       "    }\n",
       "\n",
       "    .dataframe tbody tr th {\n",
       "        vertical-align: top;\n",
       "    }\n",
       "\n",
       "    .dataframe thead th {\n",
       "        text-align: right;\n",
       "    }\n",
       "</style>\n",
       "<table border=\"1\" class=\"dataframe\">\n",
       "  <thead>\n",
       "    <tr style=\"text-align: right;\">\n",
       "      <th></th>\n",
       "      <th>Brand</th>\n",
       "      <th>City</th>\n",
       "    </tr>\n",
       "  </thead>\n",
       "  <tbody>\n",
       "    <tr>\n",
       "      <th>2</th>\n",
       "      <td>Tata</td>\n",
       "      <td>Delhi</td>\n",
       "    </tr>\n",
       "    <tr>\n",
       "      <th>3</th>\n",
       "      <td>Mahindra</td>\n",
       "      <td>Bangalore</td>\n",
       "    </tr>\n",
       "    <tr>\n",
       "      <th>4</th>\n",
       "      <td>Maruti</td>\n",
       "      <td>Mumbai</td>\n",
       "    </tr>\n",
       "    <tr>\n",
       "      <th>5</th>\n",
       "      <td>Hyundai</td>\n",
       "      <td>Bangalore</td>\n",
       "    </tr>\n",
       "  </tbody>\n",
       "</table>\n",
       "</div>"
      ],
      "text/plain": [
       "      Brand       City\n",
       "2      Tata      Delhi\n",
       "3  Mahindra  Bangalore\n",
       "4    Maruti     Mumbai\n",
       "5   Hyundai  Bangalore"
      ]
     },
     "execution_count": 46,
     "metadata": {},
     "output_type": "execute_result"
    }
   ],
   "source": [
    "car.loc[2:5, ['Brand', 'City']]"
   ]
  },
  {
   "cell_type": "code",
   "execution_count": 53,
   "metadata": {},
   "outputs": [
    {
     "data": {
      "text/html": [
       "<div>\n",
       "<style scoped>\n",
       "    .dataframe tbody tr th:only-of-type {\n",
       "        vertical-align: middle;\n",
       "    }\n",
       "\n",
       "    .dataframe tbody tr th {\n",
       "        vertical-align: top;\n",
       "    }\n",
       "\n",
       "    .dataframe thead th {\n",
       "        text-align: right;\n",
       "    }\n",
       "</style>\n",
       "<table border=\"1\" class=\"dataframe\">\n",
       "  <thead>\n",
       "    <tr style=\"text-align: right;\">\n",
       "      <th></th>\n",
       "      <th>Brand</th>\n",
       "      <th>City</th>\n",
       "    </tr>\n",
       "  </thead>\n",
       "  <tbody>\n",
       "    <tr>\n",
       "      <th>2</th>\n",
       "      <td>Tata</td>\n",
       "      <td>Delhi</td>\n",
       "    </tr>\n",
       "    <tr>\n",
       "      <th>3</th>\n",
       "      <td>Mahindra</td>\n",
       "      <td>Bangalore</td>\n",
       "    </tr>\n",
       "    <tr>\n",
       "      <th>4</th>\n",
       "      <td>Maruti</td>\n",
       "      <td>Mumbai</td>\n",
       "    </tr>\n",
       "    <tr>\n",
       "      <th>5</th>\n",
       "      <td>Hyundai</td>\n",
       "      <td>Bangalore</td>\n",
       "    </tr>\n",
       "  </tbody>\n",
       "</table>\n",
       "</div>"
      ],
      "text/plain": [
       "      Brand       City\n",
       "2      Tata      Delhi\n",
       "3  Mahindra  Bangalore\n",
       "4    Maruti     Mumbai\n",
       "5   Hyundai  Bangalore"
      ]
     },
     "execution_count": 53,
     "metadata": {},
     "output_type": "execute_result"
    }
   ],
   "source": [
    "car.iloc[2:6, [0,3]]"
   ]
  },
  {
   "cell_type": "code",
   "execution_count": 52,
   "metadata": {},
   "outputs": [
    {
     "data": {
      "text/html": [
       "<div>\n",
       "<style scoped>\n",
       "    .dataframe tbody tr th:only-of-type {\n",
       "        vertical-align: middle;\n",
       "    }\n",
       "\n",
       "    .dataframe tbody tr th {\n",
       "        vertical-align: top;\n",
       "    }\n",
       "\n",
       "    .dataframe thead th {\n",
       "        text-align: right;\n",
       "    }\n",
       "</style>\n",
       "<table border=\"1\" class=\"dataframe\">\n",
       "  <thead>\n",
       "    <tr style=\"text-align: right;\">\n",
       "      <th></th>\n",
       "      <th>Year</th>\n",
       "      <th>Kms</th>\n",
       "      <th>City</th>\n",
       "    </tr>\n",
       "  </thead>\n",
       "  <tbody>\n",
       "    <tr>\n",
       "      <th>2</th>\n",
       "      <td>2011</td>\n",
       "      <td>38000</td>\n",
       "      <td>Delhi</td>\n",
       "    </tr>\n",
       "    <tr>\n",
       "      <th>3</th>\n",
       "      <td>2010</td>\n",
       "      <td>45000</td>\n",
       "      <td>Bangalore</td>\n",
       "    </tr>\n",
       "    <tr>\n",
       "      <th>4</th>\n",
       "      <td>2009</td>\n",
       "      <td>50000</td>\n",
       "      <td>Mumbai</td>\n",
       "    </tr>\n",
       "  </tbody>\n",
       "</table>\n",
       "</div>"
      ],
      "text/plain": [
       "   Year    Kms       City\n",
       "2  2011  38000      Delhi\n",
       "3  2010  45000  Bangalore\n",
       "4  2009  50000     Mumbai"
      ]
     },
     "execution_count": 52,
     "metadata": {},
     "output_type": "execute_result"
    }
   ],
   "source": [
    "car.loc[2:4, ['Year', 'Kms', 'City']]"
   ]
  },
  {
   "cell_type": "code",
   "execution_count": 50,
   "metadata": {},
   "outputs": [
    {
     "data": {
      "text/html": [
       "<div>\n",
       "<style scoped>\n",
       "    .dataframe tbody tr th:only-of-type {\n",
       "        vertical-align: middle;\n",
       "    }\n",
       "\n",
       "    .dataframe tbody tr th {\n",
       "        vertical-align: top;\n",
       "    }\n",
       "\n",
       "    .dataframe thead th {\n",
       "        text-align: right;\n",
       "    }\n",
       "</style>\n",
       "<table border=\"1\" class=\"dataframe\">\n",
       "  <thead>\n",
       "    <tr style=\"text-align: right;\">\n",
       "      <th></th>\n",
       "      <th>Year</th>\n",
       "      <th>Kms</th>\n",
       "      <th>City</th>\n",
       "    </tr>\n",
       "  </thead>\n",
       "  <tbody>\n",
       "    <tr>\n",
       "      <th>2</th>\n",
       "      <td>2011</td>\n",
       "      <td>38000</td>\n",
       "      <td>Delhi</td>\n",
       "    </tr>\n",
       "    <tr>\n",
       "      <th>3</th>\n",
       "      <td>2010</td>\n",
       "      <td>45000</td>\n",
       "      <td>Bangalore</td>\n",
       "    </tr>\n",
       "    <tr>\n",
       "      <th>4</th>\n",
       "      <td>2009</td>\n",
       "      <td>50000</td>\n",
       "      <td>Mumbai</td>\n",
       "    </tr>\n",
       "  </tbody>\n",
       "</table>\n",
       "</div>"
      ],
      "text/plain": [
       "   Year    Kms       City\n",
       "2  2011  38000      Delhi\n",
       "3  2010  45000  Bangalore\n",
       "4  2009  50000     Mumbai"
      ]
     },
     "execution_count": 50,
     "metadata": {},
     "output_type": "execute_result"
    }
   ],
   "source": [
    "car.iloc[2:5, 1:4]"
   ]
  },
  {
   "cell_type": "code",
   "execution_count": 54,
   "metadata": {},
   "outputs": [
    {
     "data": {
      "text/html": [
       "<div>\n",
       "<style scoped>\n",
       "    .dataframe tbody tr th:only-of-type {\n",
       "        vertical-align: middle;\n",
       "    }\n",
       "\n",
       "    .dataframe tbody tr th {\n",
       "        vertical-align: top;\n",
       "    }\n",
       "\n",
       "    .dataframe thead th {\n",
       "        text-align: right;\n",
       "    }\n",
       "</style>\n",
       "<table border=\"1\" class=\"dataframe\">\n",
       "  <thead>\n",
       "    <tr style=\"text-align: right;\">\n",
       "      <th></th>\n",
       "      <th>Brand</th>\n",
       "      <th>City</th>\n",
       "    </tr>\n",
       "  </thead>\n",
       "  <tbody>\n",
       "    <tr>\n",
       "      <th>6</th>\n",
       "      <td>Renault</td>\n",
       "      <td>Chennai</td>\n",
       "    </tr>\n",
       "    <tr>\n",
       "      <th>7</th>\n",
       "      <td>Tata</td>\n",
       "      <td>Bangalore</td>\n",
       "    </tr>\n",
       "    <tr>\n",
       "      <th>8</th>\n",
       "      <td>kia</td>\n",
       "      <td>Chennai</td>\n",
       "    </tr>\n",
       "  </tbody>\n",
       "</table>\n",
       "</div>"
      ],
      "text/plain": [
       "     Brand       City\n",
       "6  Renault    Chennai\n",
       "7     Tata  Bangalore\n",
       "8      kia    Chennai"
      ]
     },
     "execution_count": 54,
     "metadata": {},
     "output_type": "execute_result"
    }
   ],
   "source": [
    "car.loc[car['Mileage']<25, ['Brand', 'City']]"
   ]
  },
  {
   "cell_type": "code",
   "execution_count": 59,
   "metadata": {},
   "outputs": [
    {
     "data": {
      "text/html": [
       "<div>\n",
       "<style scoped>\n",
       "    .dataframe tbody tr th:only-of-type {\n",
       "        vertical-align: middle;\n",
       "    }\n",
       "\n",
       "    .dataframe tbody tr th {\n",
       "        vertical-align: top;\n",
       "    }\n",
       "\n",
       "    .dataframe thead th {\n",
       "        text-align: right;\n",
       "    }\n",
       "</style>\n",
       "<table border=\"1\" class=\"dataframe\">\n",
       "  <thead>\n",
       "    <tr style=\"text-align: right;\">\n",
       "      <th></th>\n",
       "      <th>Brand</th>\n",
       "      <th>City</th>\n",
       "    </tr>\n",
       "  </thead>\n",
       "  <tbody>\n",
       "    <tr>\n",
       "      <th>6</th>\n",
       "      <td>Renault</td>\n",
       "      <td>Chennai</td>\n",
       "    </tr>\n",
       "    <tr>\n",
       "      <th>7</th>\n",
       "      <td>Tata</td>\n",
       "      <td>Bangalore</td>\n",
       "    </tr>\n",
       "    <tr>\n",
       "      <th>8</th>\n",
       "      <td>kia</td>\n",
       "      <td>Chennai</td>\n",
       "    </tr>\n",
       "  </tbody>\n",
       "</table>\n",
       "</div>"
      ],
      "text/plain": [
       "     Brand       City\n",
       "6  Renault    Chennai\n",
       "7     Tata  Bangalore\n",
       "8      kia    Chennai"
      ]
     },
     "execution_count": 59,
     "metadata": {},
     "output_type": "execute_result"
    }
   ],
   "source": [
    "car.iloc[(car['Mileage']<25).values, [0,3]]"
   ]
  },
  {
   "cell_type": "markdown",
   "metadata": {},
   "source": [
    "### 7. How is list.append() different from list.extend()? \n",
    "\n",
    "- **list.append()** \n",
    "    - adds its argument as a single element to the end of a list.\n",
    "    - The length of the list increases by one.\n",
    "\n",
    "- **list.extend()**\n",
    "    - iterates over its argument and adds each element to the list.\n",
    "    - The length of the list increases by the number of elements in its argument."
   ]
  },
  {
   "cell_type": "code",
   "execution_count": 65,
   "metadata": {},
   "outputs": [
    {
     "name": "stdout",
     "output_type": "stream",
     "text": [
      "[1, 2, 3]\n",
      "3\n",
      "[1, 2, 3, ['Hello', 3.5, True]]\n",
      "4\n"
     ]
    }
   ],
   "source": [
    "l = [1,2,3]\n",
    "print(l)\n",
    "print(len(l))\n",
    "\n",
    "l.append(['Hello', 3.5, True])\n",
    "print(l)\n",
    "print(len(l))"
   ]
  },
  {
   "cell_type": "code",
   "execution_count": 66,
   "metadata": {},
   "outputs": [
    {
     "name": "stdout",
     "output_type": "stream",
     "text": [
      "[1, 2, 3]\n",
      "3\n",
      "[1, 2, 3, 'Hello', 3.5, True]\n",
      "6\n"
     ]
    }
   ],
   "source": [
    "l = [1,2,3]\n",
    "print(l)\n",
    "print(len(l))\n",
    "\n",
    "l.extend(['Hello', 3.5, True])\n",
    "print(l)\n",
    "print(len(l))"
   ]
  },
  {
   "cell_type": "markdown",
   "metadata": {},
   "source": [
    "### 8. Suppose you have a car dataset which has a Mileage column. Create a new field called mlg that will accept 2 values. If Mileage < 25 then \"Low mlg\". If Mileage >= 25, then \"High mlg\"."
   ]
  },
  {
   "cell_type": "code",
   "execution_count": 67,
   "metadata": {},
   "outputs": [
    {
     "data": {
      "text/html": [
       "<div>\n",
       "<style scoped>\n",
       "    .dataframe tbody tr th:only-of-type {\n",
       "        vertical-align: middle;\n",
       "    }\n",
       "\n",
       "    .dataframe tbody tr th {\n",
       "        vertical-align: top;\n",
       "    }\n",
       "\n",
       "    .dataframe thead th {\n",
       "        text-align: right;\n",
       "    }\n",
       "</style>\n",
       "<table border=\"1\" class=\"dataframe\">\n",
       "  <thead>\n",
       "    <tr style=\"text-align: right;\">\n",
       "      <th></th>\n",
       "      <th>Brand</th>\n",
       "      <th>Year</th>\n",
       "      <th>Kms</th>\n",
       "      <th>City</th>\n",
       "      <th>Mileage</th>\n",
       "      <th>mlg</th>\n",
       "    </tr>\n",
       "  </thead>\n",
       "  <tbody>\n",
       "    <tr>\n",
       "      <th>0</th>\n",
       "      <td>Ford</td>\n",
       "      <td>2016</td>\n",
       "      <td>23000</td>\n",
       "      <td>Kolkata</td>\n",
       "      <td>25</td>\n",
       "      <td>High mlg</td>\n",
       "    </tr>\n",
       "    <tr>\n",
       "      <th>1</th>\n",
       "      <td>Hyundai</td>\n",
       "      <td>2012</td>\n",
       "      <td>40000</td>\n",
       "      <td>Mumbai</td>\n",
       "      <td>27</td>\n",
       "      <td>High mlg</td>\n",
       "    </tr>\n",
       "    <tr>\n",
       "      <th>2</th>\n",
       "      <td>Tata</td>\n",
       "      <td>2011</td>\n",
       "      <td>38000</td>\n",
       "      <td>Delhi</td>\n",
       "      <td>25</td>\n",
       "      <td>High mlg</td>\n",
       "    </tr>\n",
       "    <tr>\n",
       "      <th>3</th>\n",
       "      <td>Mahindra</td>\n",
       "      <td>2010</td>\n",
       "      <td>45000</td>\n",
       "      <td>Bangalore</td>\n",
       "      <td>26</td>\n",
       "      <td>High mlg</td>\n",
       "    </tr>\n",
       "    <tr>\n",
       "      <th>4</th>\n",
       "      <td>Maruti</td>\n",
       "      <td>2009</td>\n",
       "      <td>50000</td>\n",
       "      <td>Mumbai</td>\n",
       "      <td>28</td>\n",
       "      <td>High mlg</td>\n",
       "    </tr>\n",
       "    <tr>\n",
       "      <th>5</th>\n",
       "      <td>Hyundai</td>\n",
       "      <td>2010</td>\n",
       "      <td>46000</td>\n",
       "      <td>Bangalore</td>\n",
       "      <td>29</td>\n",
       "      <td>High mlg</td>\n",
       "    </tr>\n",
       "    <tr>\n",
       "      <th>6</th>\n",
       "      <td>Renault</td>\n",
       "      <td>2012</td>\n",
       "      <td>18000</td>\n",
       "      <td>Chennai</td>\n",
       "      <td>24</td>\n",
       "      <td>Low mlg</td>\n",
       "    </tr>\n",
       "    <tr>\n",
       "      <th>7</th>\n",
       "      <td>Tata</td>\n",
       "      <td>2017</td>\n",
       "      <td>9000</td>\n",
       "      <td>Bangalore</td>\n",
       "      <td>21</td>\n",
       "      <td>Low mlg</td>\n",
       "    </tr>\n",
       "    <tr>\n",
       "      <th>8</th>\n",
       "      <td>kia</td>\n",
       "      <td>2019</td>\n",
       "      <td>5000</td>\n",
       "      <td>Chennai</td>\n",
       "      <td>19</td>\n",
       "      <td>Low mlg</td>\n",
       "    </tr>\n",
       "  </tbody>\n",
       "</table>\n",
       "</div>"
      ],
      "text/plain": [
       "      Brand  Year    Kms       City  Mileage       mlg\n",
       "0      Ford  2016  23000    Kolkata       25  High mlg\n",
       "1   Hyundai  2012  40000     Mumbai       27  High mlg\n",
       "2      Tata  2011  38000      Delhi       25  High mlg\n",
       "3  Mahindra  2010  45000  Bangalore       26  High mlg\n",
       "4    Maruti  2009  50000     Mumbai       28  High mlg\n",
       "5   Hyundai  2010  46000  Bangalore       29  High mlg\n",
       "6   Renault  2012  18000    Chennai       24   Low mlg\n",
       "7      Tata  2017   9000  Bangalore       21   Low mlg\n",
       "8       kia  2019   5000    Chennai       19   Low mlg"
      ]
     },
     "execution_count": 67,
     "metadata": {},
     "output_type": "execute_result"
    }
   ],
   "source": [
    "import pandas as pd\n",
    "\n",
    "dic = {'Brand': ['Ford', 'Hyundai', 'Tata', 'Mahindra', 'Maruti', 'Hyundai', 'Renault', 'Tata', 'kia'],\n",
    "       'Year': [2016, 2012, 2011, 2010, 2009, 2010, 2012, 2017, 2019],\n",
    "       'Kms': [23000, 40000, 38000, 45000, 50000, 46000, 18000, 9000, 5000],\n",
    "       'City': ['Kolkata', 'Mumbai', 'Delhi', 'Bangalore', 'Mumbai', 'Bangalore', 'Chennai', 'Bangalore', 'Chennai'],\n",
    "       'Mileage': [25, 27, 25, 26, 28, 29, 24, 21, 19]\n",
    "      }\n",
    "\n",
    "car = pd.DataFrame(dic)\n",
    "number_of_rows = car.shape[0]\n",
    "\n",
    "f = lambda x: \"Low mlg\" if x<25 else \"High mlg\"\n",
    "car['mlg'] = car.Mileage.apply(f)\n",
    "\n",
    "car.head(number_of_rows)"
   ]
  },
  {
   "cell_type": "markdown",
   "metadata": {},
   "source": [
    "### 9. Create a 4x4 matrix and find the sum of all the diagonal elements of the matrix.\n",
    "- To create a matrix in Python, you can use the NumPy array (random or arange().reshape()).\n",
    "- Use the diagonal() function to get the diagonal elements."
   ]
  },
  {
   "cell_type": "code",
   "execution_count": 68,
   "metadata": {},
   "outputs": [
    {
     "name": "stdout",
     "output_type": "stream",
     "text": [
      "[[ 1.24344855 -0.3094567   0.72503916 -0.27084368]\n",
      " [ 0.25415375  0.98350294  0.85272108  0.01923482]\n",
      " [ 1.66807055 -0.4086649   0.22909628 -1.30198681]\n",
      " [ 0.21033903 -1.23647358 -1.11526176  0.35153177]]\n"
     ]
    }
   ],
   "source": [
    "import numpy as np\n",
    "\n",
    "x = np.random.randn(4,4)\n",
    "print(x)"
   ]
  },
  {
   "cell_type": "code",
   "execution_count": 71,
   "metadata": {},
   "outputs": [
    {
     "name": "stdout",
     "output_type": "stream",
     "text": [
      "[1.24344855 0.98350294 0.22909628 0.35153177]\n",
      "2.807579537270831\n"
     ]
    }
   ],
   "source": [
    "d = np.diagonal(x)\n",
    "print(d)\n",
    "print(np.sum(d))"
   ]
  },
  {
   "cell_type": "code",
   "execution_count": 72,
   "metadata": {},
   "outputs": [
    {
     "name": "stdout",
     "output_type": "stream",
     "text": [
      "2.807579537270831\n"
     ]
    }
   ],
   "source": [
    "length = x.shape[0]\n",
    "summation = 0\n",
    "\n",
    "for i in range(length):\n",
    "    summation += x[i,i]\n",
    "\n",
    "print(summation)"
   ]
  },
  {
   "cell_type": "markdown",
   "metadata": {},
   "source": [
    "### 10. Given a car dataframe, find the average and maximum mileage of the cars using Pandas."
   ]
  },
  {
   "cell_type": "code",
   "execution_count": 73,
   "metadata": {},
   "outputs": [
    {
     "data": {
      "text/html": [
       "<div>\n",
       "<style scoped>\n",
       "    .dataframe tbody tr th:only-of-type {\n",
       "        vertical-align: middle;\n",
       "    }\n",
       "\n",
       "    .dataframe tbody tr th {\n",
       "        vertical-align: top;\n",
       "    }\n",
       "\n",
       "    .dataframe thead th {\n",
       "        text-align: right;\n",
       "    }\n",
       "</style>\n",
       "<table border=\"1\" class=\"dataframe\">\n",
       "  <thead>\n",
       "    <tr style=\"text-align: right;\">\n",
       "      <th></th>\n",
       "      <th>Brand</th>\n",
       "      <th>Year</th>\n",
       "      <th>Kms</th>\n",
       "      <th>City</th>\n",
       "      <th>Mileage</th>\n",
       "    </tr>\n",
       "  </thead>\n",
       "  <tbody>\n",
       "    <tr>\n",
       "      <th>0</th>\n",
       "      <td>Ford</td>\n",
       "      <td>2016</td>\n",
       "      <td>23000</td>\n",
       "      <td>Kolkata</td>\n",
       "      <td>25</td>\n",
       "    </tr>\n",
       "    <tr>\n",
       "      <th>1</th>\n",
       "      <td>Hyundai</td>\n",
       "      <td>2012</td>\n",
       "      <td>40000</td>\n",
       "      <td>Mumbai</td>\n",
       "      <td>27</td>\n",
       "    </tr>\n",
       "    <tr>\n",
       "      <th>2</th>\n",
       "      <td>Tata</td>\n",
       "      <td>2011</td>\n",
       "      <td>38000</td>\n",
       "      <td>Delhi</td>\n",
       "      <td>25</td>\n",
       "    </tr>\n",
       "    <tr>\n",
       "      <th>3</th>\n",
       "      <td>Mahindra</td>\n",
       "      <td>2010</td>\n",
       "      <td>45000</td>\n",
       "      <td>Bangalore</td>\n",
       "      <td>26</td>\n",
       "    </tr>\n",
       "    <tr>\n",
       "      <th>4</th>\n",
       "      <td>Maruti</td>\n",
       "      <td>2009</td>\n",
       "      <td>50000</td>\n",
       "      <td>Mumbai</td>\n",
       "      <td>28</td>\n",
       "    </tr>\n",
       "    <tr>\n",
       "      <th>5</th>\n",
       "      <td>Hyundai</td>\n",
       "      <td>2010</td>\n",
       "      <td>46000</td>\n",
       "      <td>Bangalore</td>\n",
       "      <td>29</td>\n",
       "    </tr>\n",
       "    <tr>\n",
       "      <th>6</th>\n",
       "      <td>Renault</td>\n",
       "      <td>2012</td>\n",
       "      <td>18000</td>\n",
       "      <td>Chennai</td>\n",
       "      <td>24</td>\n",
       "    </tr>\n",
       "    <tr>\n",
       "      <th>7</th>\n",
       "      <td>Tata</td>\n",
       "      <td>2017</td>\n",
       "      <td>9000</td>\n",
       "      <td>Bangalore</td>\n",
       "      <td>21</td>\n",
       "    </tr>\n",
       "    <tr>\n",
       "      <th>8</th>\n",
       "      <td>kia</td>\n",
       "      <td>2019</td>\n",
       "      <td>5000</td>\n",
       "      <td>Chennai</td>\n",
       "      <td>19</td>\n",
       "    </tr>\n",
       "  </tbody>\n",
       "</table>\n",
       "</div>"
      ],
      "text/plain": [
       "      Brand  Year    Kms       City  Mileage\n",
       "0      Ford  2016  23000    Kolkata       25\n",
       "1   Hyundai  2012  40000     Mumbai       27\n",
       "2      Tata  2011  38000      Delhi       25\n",
       "3  Mahindra  2010  45000  Bangalore       26\n",
       "4    Maruti  2009  50000     Mumbai       28\n",
       "5   Hyundai  2010  46000  Bangalore       29\n",
       "6   Renault  2012  18000    Chennai       24\n",
       "7      Tata  2017   9000  Bangalore       21\n",
       "8       kia  2019   5000    Chennai       19"
      ]
     },
     "execution_count": 73,
     "metadata": {},
     "output_type": "execute_result"
    }
   ],
   "source": [
    "import pandas as pd\n",
    "\n",
    "dic = {'Brand': ['Ford', 'Hyundai', 'Tata', 'Mahindra', 'Maruti', 'Hyundai', 'Renault', 'Tata', 'kia'],\n",
    "       'Year': [2016, 2012, 2011, 2010, 2009, 2010, 2012, 2017, 2019],\n",
    "       'Kms': [23000, 40000, 38000, 45000, 50000, 46000, 18000, 9000, 5000],\n",
    "       'City': ['Kolkata', 'Mumbai', 'Delhi', 'Bangalore', 'Mumbai', 'Bangalore', 'Chennai', 'Bangalore', 'Chennai'],\n",
    "       'Mileage': [25, 27, 25, 26, 28, 29, 24, 21, 19]\n",
    "      }\n",
    "\n",
    "car = pd.DataFrame(dic)\n",
    "number_of_rows = car.shape[0]\n",
    "\n",
    "car.head(number_of_rows)"
   ]
  },
  {
   "cell_type": "code",
   "execution_count": 76,
   "metadata": {},
   "outputs": [
    {
     "data": {
      "text/plain": [
       "29"
      ]
     },
     "execution_count": 76,
     "metadata": {},
     "output_type": "execute_result"
    }
   ],
   "source": [
    "car.Mileage.max()"
   ]
  },
  {
   "cell_type": "code",
   "execution_count": 78,
   "metadata": {},
   "outputs": [
    {
     "data": {
      "text/plain": [
       "24.88888888888889"
      ]
     },
     "execution_count": 78,
     "metadata": {},
     "output_type": "execute_result"
    }
   ],
   "source": [
    "car.Mileage.mean()"
   ]
  },
  {
   "cell_type": "markdown",
   "metadata": {},
   "source": [
    "### Given a car dataframe, find the average and maximum mileage of each type of the cars using Pandas."
   ]
  },
  {
   "cell_type": "code",
   "execution_count": 80,
   "metadata": {},
   "outputs": [
    {
     "data": {
      "text/html": [
       "<div>\n",
       "<style scoped>\n",
       "    .dataframe tbody tr th:only-of-type {\n",
       "        vertical-align: middle;\n",
       "    }\n",
       "\n",
       "    .dataframe tbody tr th {\n",
       "        vertical-align: top;\n",
       "    }\n",
       "\n",
       "    .dataframe thead tr th {\n",
       "        text-align: left;\n",
       "    }\n",
       "\n",
       "    .dataframe thead tr:last-of-type th {\n",
       "        text-align: right;\n",
       "    }\n",
       "</style>\n",
       "<table border=\"1\" class=\"dataframe\">\n",
       "  <thead>\n",
       "    <tr>\n",
       "      <th></th>\n",
       "      <th colspan=\"2\" halign=\"left\">Mileage</th>\n",
       "    </tr>\n",
       "    <tr>\n",
       "      <th></th>\n",
       "      <th>mean</th>\n",
       "      <th>max</th>\n",
       "    </tr>\n",
       "    <tr>\n",
       "      <th>Brand</th>\n",
       "      <th></th>\n",
       "      <th></th>\n",
       "    </tr>\n",
       "  </thead>\n",
       "  <tbody>\n",
       "    <tr>\n",
       "      <th>Ford</th>\n",
       "      <td>25</td>\n",
       "      <td>25</td>\n",
       "    </tr>\n",
       "    <tr>\n",
       "      <th>Hyundai</th>\n",
       "      <td>28</td>\n",
       "      <td>29</td>\n",
       "    </tr>\n",
       "    <tr>\n",
       "      <th>Mahindra</th>\n",
       "      <td>26</td>\n",
       "      <td>26</td>\n",
       "    </tr>\n",
       "    <tr>\n",
       "      <th>Maruti</th>\n",
       "      <td>28</td>\n",
       "      <td>28</td>\n",
       "    </tr>\n",
       "    <tr>\n",
       "      <th>Renault</th>\n",
       "      <td>24</td>\n",
       "      <td>24</td>\n",
       "    </tr>\n",
       "    <tr>\n",
       "      <th>Tata</th>\n",
       "      <td>23</td>\n",
       "      <td>25</td>\n",
       "    </tr>\n",
       "    <tr>\n",
       "      <th>kia</th>\n",
       "      <td>19</td>\n",
       "      <td>19</td>\n",
       "    </tr>\n",
       "  </tbody>\n",
       "</table>\n",
       "</div>"
      ],
      "text/plain": [
       "         Mileage    \n",
       "            mean max\n",
       "Brand               \n",
       "Ford          25  25\n",
       "Hyundai       28  29\n",
       "Mahindra      26  26\n",
       "Maruti        28  28\n",
       "Renault       24  24\n",
       "Tata          23  25\n",
       "kia           19  19"
      ]
     },
     "execution_count": 80,
     "metadata": {},
     "output_type": "execute_result"
    }
   ],
   "source": [
    "result = car.groupby('Brand').agg({'Mileage':['mean', 'max']})\n",
    "length = result.shape[0]\n",
    "result.head(length)"
   ]
  }
 ],
 "metadata": {
  "kernelspec": {
   "display_name": "Python 3 (ipykernel)",
   "language": "python",
   "name": "python3"
  },
  "language_info": {
   "codemirror_mode": {
    "name": "ipython",
    "version": 3
   },
   "file_extension": ".py",
   "mimetype": "text/x-python",
   "name": "python",
   "nbconvert_exporter": "python",
   "pygments_lexer": "ipython3",
   "version": "3.9.13"
  }
 },
 "nbformat": 4,
 "nbformat_minor": 4
}
