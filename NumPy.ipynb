{
 "cells": [
  {
   "cell_type": "markdown",
   "metadata": {
    "id": "0irg1d3N0QGS"
   },
   "source": [
    "# NumPy\n",
    "\n",
    "## 1. NumPy Section Introduction\n",
    "\n",
    "### Vectors and Matrices\n",
    "- In Linear Algebra, convention to treat vectors as 2-D (column vector (dx1), or raw vector (1xd))\n",
    "- But not in NumPy! Vectors will be 1-D (most of the time)\n",
    "\n",
    "### Dot Product / Inner Product\n",
    "$ a . b = a^T b = \\sum_{d=1}^{D} a_d b_d $\n",
    "\n",
    "### Matrix Multiplication (C = AB)\n",
    "- Generalized dot product.\n",
    "- $ c_{ij} = a_{i1}b_{1j} + a_{i2}b_{2j} + ... + a_{in}b_{nj} = \\sum_{k=1}^{n} a_{ik}b_{kj} $\n",
    "\n",
    "### Element-wise Product\n",
    "- Not so common in Linear Algebra, but very common in ML.\n",
    "\n",
    "### And many more\n",
    "- Linear Systems: Ax = b\n",
    "- Inverse: $ A^{-1} $\n",
    "- Determinant: $ |A| $\n",
    "- Choosing random numbers (e.g. Uniform, Gaussian)\n",
    "\n",
    "### Applications\n",
    "1. Linear Regression\n",
    "1. LogisticRegression\n",
    "1. Deep Neural Networks\n",
    "1. K-Means Clustering\n",
    "1. Density Estimation\n",
    "1. Principal Components Analysis\n",
    "1. Matrix Factorization (Recommender Systems)\n",
    "1. Support Vector Machines (SVM)\n",
    "1. Markov Models and HMM\n",
    "1. Control Systems\n",
    "1. Game Theory\n",
    "1. Operations Research\n",
    "1. Portofolio Optimization"
   ]
  },
  {
   "cell_type": "markdown",
   "metadata": {
    "id": "YWHTMqu70QGV"
   },
   "source": [
    "## 2. NumPy Arrays vs. Python Lists\n",
    "- Python List looks like an array, but it works like a generic data structure.\n",
    "- NumPy Array exists specifically to do Math"
   ]
  },
  {
   "cell_type": "markdown",
   "metadata": {
    "id": "Cv-piZjr0QGV"
   },
   "source": [
    "### Questions\n",
    "\n",
    "1. Import NumPy Library\n",
    "1. Creating a list containing 1,2,3\n",
    "1. Creating NumPy array containing the same items\n",
    "1. Iterate over a list elements and print them\n",
    "1. Iterate over a NumPy array elements and print them \n",
    "1. Add a new item to a list to the end\n",
    "1. Size of NumPy array is fixed (immutable), you cannot add an element to NumPy array. But, new array will be created.\n",
    "1. Add 2 lists together (list concatenation)\n",
    "1. Add array of one number to an array (broadcasting)\n",
    "1. Add 2 arrays of the same size (array addition)\n",
    "1. Multiply a list with a scalar value (list repetition). Multiply operator does repetition.\n",
    "1. Array Scaling (multiply an array witha scalar value). Multiply operator does scaling.\n",
    "1. Add a value 3 to each element in a list using for-loop.\n",
    "1. Add a value 3 to each element in a list using list comprehension.\n",
    "1. Square each element in a list using list comprehension \n",
    "1. Square, SQRT, Log, Exponential, Hyperbolic Tangent each element in NumPy array "
   ]
  },
  {
   "cell_type": "code",
   "execution_count": 1,
   "metadata": {
    "id": "AKqe2U7h0QGW"
   },
   "outputs": [],
   "source": [
    "import numpy as np"
   ]
  },
  {
   "cell_type": "code",
   "execution_count": 2,
   "metadata": {
    "id": "giuPukzc0QGX",
    "outputId": "f53e8ff7-697a-400e-c41a-917fd74f675c"
   },
   "outputs": [
    {
     "name": "stdout",
     "output_type": "stream",
     "text": [
      "[1, 2, 3]\n"
     ]
    }
   ],
   "source": [
    "x = [1,2,3]\n",
    "print(x)"
   ]
  },
  {
   "cell_type": "code",
   "execution_count": 3,
   "metadata": {
    "id": "9Feb4XGX0QGY",
    "outputId": "d1bfb411-53f0-4363-a11c-55f3c0551497"
   },
   "outputs": [
    {
     "name": "stdout",
     "output_type": "stream",
     "text": [
      "[1 2 3]\n"
     ]
    }
   ],
   "source": [
    "y = np.array([1,2,3])\n",
    "print(y)"
   ]
  },
  {
   "cell_type": "code",
   "execution_count": 4,
   "metadata": {
    "id": "hW3n9HFV0QGZ",
    "outputId": "25191f09-b2c0-44a6-cfa8-bbd1e3e39ed1"
   },
   "outputs": [
    {
     "name": "stdout",
     "output_type": "stream",
     "text": [
      "1\n",
      "2\n",
      "3\n"
     ]
    }
   ],
   "source": [
    "for element in x:\n",
    "    print(element)"
   ]
  },
  {
   "cell_type": "code",
   "execution_count": 5,
   "metadata": {
    "id": "I9gAM15c0QGZ",
    "outputId": "07db671f-22db-49e8-8ca5-4ec53fd56dce"
   },
   "outputs": [
    {
     "name": "stdout",
     "output_type": "stream",
     "text": [
      "1\n",
      "2\n",
      "3\n"
     ]
    }
   ],
   "source": [
    "for element in y:\n",
    "    print(element)"
   ]
  },
  {
   "cell_type": "code",
   "execution_count": 6,
   "metadata": {
    "id": "nvAsUbym0QGZ",
    "outputId": "d581077d-9aeb-4db2-e6bc-53b94762b082"
   },
   "outputs": [
    {
     "name": "stdout",
     "output_type": "stream",
     "text": [
      "[1, 2, 3, 4]\n"
     ]
    }
   ],
   "source": [
    "x.append(4)\n",
    "print(x)"
   ]
  },
  {
   "cell_type": "code",
   "execution_count": 7,
   "metadata": {
    "id": "0qceuMqL0QGa",
    "outputId": "40eebcc0-0c3c-4a2f-9921-6c5f81a532b6"
   },
   "outputs": [
    {
     "data": {
      "text/plain": [
       "[1, 2, 3, 4, 1, 2, 3]"
      ]
     },
     "execution_count": 7,
     "metadata": {},
     "output_type": "execute_result"
    }
   ],
   "source": [
    "x + [1,2,3]"
   ]
  },
  {
   "cell_type": "code",
   "execution_count": 8,
   "metadata": {
    "id": "BCA7dYIz0QGa",
    "outputId": "d079e6a5-26ac-42ad-a2fc-439baded7d88"
   },
   "outputs": [
    {
     "data": {
      "text/plain": [
       "array([5, 6, 7])"
      ]
     },
     "execution_count": 8,
     "metadata": {},
     "output_type": "execute_result"
    }
   ],
   "source": [
    "y + np.array([4])"
   ]
  },
  {
   "cell_type": "code",
   "execution_count": 9,
   "metadata": {
    "id": "CBtUBEsr0QGa",
    "outputId": "dfb6c0f5-f137-4b56-b74c-bf3a626a267e"
   },
   "outputs": [
    {
     "data": {
      "text/plain": [
       "array([2, 4, 6])"
      ]
     },
     "execution_count": 9,
     "metadata": {},
     "output_type": "execute_result"
    }
   ],
   "source": [
    "y + np.array([1,2,3])"
   ]
  },
  {
   "cell_type": "code",
   "execution_count": 10,
   "metadata": {
    "id": "UI2m1GQL0QGb",
    "outputId": "e3e8b3ae-701f-47e2-c53c-e877ffdda0a1"
   },
   "outputs": [
    {
     "data": {
      "text/plain": [
       "[1, 2, 3, 4, 1, 2, 3, 4]"
      ]
     },
     "execution_count": 10,
     "metadata": {},
     "output_type": "execute_result"
    }
   ],
   "source": [
    "x * 2"
   ]
  },
  {
   "cell_type": "code",
   "execution_count": 11,
   "metadata": {
    "id": "4J6Sk7cK0QGb",
    "outputId": "7905db64-7f08-4b68-bc04-261e9e39980e"
   },
   "outputs": [
    {
     "data": {
      "text/plain": [
       "array([2, 4, 6])"
      ]
     },
     "execution_count": 11,
     "metadata": {},
     "output_type": "execute_result"
    }
   ],
   "source": [
    "y * 2"
   ]
  },
  {
   "cell_type": "code",
   "execution_count": 12,
   "metadata": {
    "id": "F7M3lk9w0QGb",
    "outputId": "5f2c7193-f65e-436f-fd1e-a9c73499081c"
   },
   "outputs": [
    {
     "name": "stdout",
     "output_type": "stream",
     "text": [
      "[4, 5, 6, 7]\n"
     ]
    }
   ],
   "source": [
    "x2 = []\n",
    "for element in x:\n",
    "    x2.append(element + 3)\n",
    "print(x2)    "
   ]
  },
  {
   "cell_type": "code",
   "execution_count": 13,
   "metadata": {
    "id": "GEBHwWBJ0QGc",
    "outputId": "f90bc545-bfd0-44a1-8bf3-a09dd8d6e406"
   },
   "outputs": [
    {
     "name": "stdout",
     "output_type": "stream",
     "text": [
      "[4, 5, 6, 7]\n"
     ]
    }
   ],
   "source": [
    "x2 = [element+3 for element in x]\n",
    "print(x2)"
   ]
  },
  {
   "cell_type": "code",
   "execution_count": 14,
   "metadata": {
    "id": "rGIwVAhj0QGc",
    "outputId": "7d3abd59-9159-4b36-c677-46624c68ad76"
   },
   "outputs": [
    {
     "name": "stdout",
     "output_type": "stream",
     "text": [
      "[1, 4, 9, 16]\n"
     ]
    }
   ],
   "source": [
    "x3 = [element**2 for element in x]\n",
    "print(x3)"
   ]
  },
  {
   "cell_type": "code",
   "execution_count": 15,
   "metadata": {
    "id": "Uuih9yHn0QGc",
    "outputId": "78f66b6d-0575-4734-97f4-421e418525ef"
   },
   "outputs": [
    {
     "name": "stdout",
     "output_type": "stream",
     "text": [
      "[1 4 9]\n",
      "[1.         1.41421356 1.73205081]\n",
      "[0.         0.69314718 1.09861229]\n",
      "[ 2.71828183  7.3890561  20.08553692]\n",
      "[0.76159416 0.96402758 0.99505475]\n"
     ]
    }
   ],
   "source": [
    "# Square, SQRT, Log, Exponential, Hyperbolic Tangent for NumPy Array\n",
    "print(y**2)\n",
    "print(np.sqrt(y))\n",
    "print(np.log(y))\n",
    "print(np.exp(y))\n",
    "print(np.tanh(y))"
   ]
  },
  {
   "cell_type": "markdown",
   "metadata": {
    "id": "519swhpQ0QGd"
   },
   "source": [
    "## 3. Dot Product\n",
    "\n",
    "- It is also called inner product.\n",
    "- $ a.b = a^T b = \\sum^{D}_{d=1}a_d b_d $\n",
    "- $ a.b = a^T b = \\lVert a \\rVert \\lVert b \\rVert \\cos \\theta_{ab} $\n",
    "- $ \\cos \\theta_{ab} = \\frac{a^T b}{\\lVert a \\rVert \\lVert b \\rVert} $\n",
    "- $ \\lVert a \\rVert = \\sqrt{\\sum_{d=1}^{D} a^{2}_{d}} $"
   ]
  },
  {
   "cell_type": "markdown",
   "metadata": {
    "id": "VFvfiRPv0QGd"
   },
   "source": [
    "### Questions\n",
    "1. Declare 2 of 1-D NumPy arrays, each one of them has 3 elements.\n",
    "1. Determine the dot product using explicit for-loop by 3 methods.\n",
    "1. Determine the dot product using NumPy (function or instance method).\n",
    "1. Determine the theta between the 2 vectors in degree form."
   ]
  },
  {
   "cell_type": "code",
   "execution_count": 16,
   "metadata": {
    "id": "vMV1fG1m0QGd",
    "outputId": "06ba65a9-0d5a-44c8-f478-f90a5098d249"
   },
   "outputs": [
    {
     "name": "stdout",
     "output_type": "stream",
     "text": [
      "32\n"
     ]
    }
   ],
   "source": [
    "import numpy as np\n",
    "\n",
    "a = np.array([1,2,3])\n",
    "b = np.array([4,5,6])\n",
    "\n",
    "dot_product = 0\n",
    "\n",
    "for element_a, element_b in zip(a,b):\n",
    "    dot_product += element_a * element_b\n",
    "\n",
    "print(dot_product)    "
   ]
  },
  {
   "cell_type": "code",
   "execution_count": 17,
   "metadata": {
    "id": "dLjGgj570QGe",
    "outputId": "06f6a2cf-cdc0-40ad-8b80-5557b2090cb1"
   },
   "outputs": [
    {
     "name": "stdout",
     "output_type": "stream",
     "text": [
      "32\n"
     ]
    }
   ],
   "source": [
    "dot_product = 0\n",
    "\n",
    "for i in range(len(a)):\n",
    "    dot_product += a[i] * b[i]\n",
    "\n",
    "print(dot_product)    "
   ]
  },
  {
   "cell_type": "code",
   "execution_count": 18,
   "metadata": {
    "id": "D_gfm0GH0QGe",
    "outputId": "2864d8a2-305b-4fe7-c25e-58b505e01278"
   },
   "outputs": [
    {
     "name": "stdout",
     "output_type": "stream",
     "text": [
      "32\n",
      "32\n"
     ]
    }
   ],
   "source": [
    "dot_product = np.sum(a*b)\n",
    "print(dot_product)\n",
    "\n",
    "dot_product = (a*b).sum()\n",
    "print(dot_product)"
   ]
  },
  {
   "cell_type": "code",
   "execution_count": 19,
   "metadata": {
    "id": "-VPHqE350QGe",
    "outputId": "61146aa2-9973-4f13-de13-7ec4e7e26c0f"
   },
   "outputs": [
    {
     "name": "stdout",
     "output_type": "stream",
     "text": [
      "32\n"
     ]
    }
   ],
   "source": [
    "print(a.dot(b))"
   ]
  },
  {
   "cell_type": "code",
   "execution_count": 20,
   "metadata": {
    "id": "SXSHvovi0QGe",
    "outputId": "9b5f8f2a-ce86-42e1-ef03-888da613e3bc"
   },
   "outputs": [
    {
     "name": "stdout",
     "output_type": "stream",
     "text": [
      "32\n",
      "32\n",
      "32\n"
     ]
    }
   ],
   "source": [
    "dot_product = np.dot(a,b)\n",
    "print(dot_product)\n",
    "\n",
    "dot_product = a.dot(b)\n",
    "print(dot_product)\n",
    "\n",
    "dot_product = a @ b\n",
    "print(dot_product)"
   ]
  },
  {
   "cell_type": "code",
   "execution_count": 21,
   "metadata": {
    "id": "yWa2DEOu0QGf",
    "outputId": "64c35887-ddd9-4af0-b565-c12a3a68a923"
   },
   "outputs": [
    {
     "name": "stdout",
     "output_type": "stream",
     "text": [
      "88.29894775634656\n"
     ]
    }
   ],
   "source": [
    "# a_magnitude = np.linalg.norm(a)\n",
    "a_magnitude = a.dot(a)\n",
    "b_magnitude = b.dot(b)\n",
    "cos_theta = a.dot(b) / (a_magnitude * b_magnitude)\n",
    "theta = np.arccos(cos_theta) * 180 / np.pi\n",
    "print(theta)"
   ]
  },
  {
   "cell_type": "markdown",
   "metadata": {
    "id": "bYtgv_jL0QGf"
   },
   "source": [
    "## 4. Speed Test\n",
    "### Questions\n",
    "1. Compare the execution time between Dot Product calculations using:\n",
    "    1. Explicit for loop on Python List.\n",
    "    1. Build-in functions in NumPy Array.\n",
    "1. Compare the execution time between squaring elements of a list:\n",
    "    1. Explicit for loop on Python List. \n",
    "    1. Python list comprehension."
   ]
  },
  {
   "cell_type": "code",
   "execution_count": 22,
   "metadata": {
    "id": "HPXatISU0QGf",
    "outputId": "47ebd413-ffd1-48b2-dfdf-e658c387f47d"
   },
   "outputs": [
    {
     "name": "stdout",
     "output_type": "stream",
     "text": [
      "11.451574812637059\n"
     ]
    }
   ],
   "source": [
    "import numpy as np\n",
    "from datetime import datetime\n",
    "\n",
    "def dot_product_using_python_list(a,b):\n",
    "    \n",
    "    dot_product = 0\n",
    "    for element_a, element_b in zip(a,b):\n",
    "        dot_product += (element_a * element_b)\n",
    "    return dot_product    \n",
    "\n",
    "a = np.random.randn(100)\n",
    "b = np.random.randn(100)\n",
    "\n",
    "T = 100000\n",
    "\n",
    "before = datetime.now()\n",
    "for i in range(T):\n",
    "    dot_product_using_python_list(a,b)\n",
    "after = datetime.now()\n",
    "slow_execution_time = after - before\n",
    "\n",
    "before = datetime.now()\n",
    "for i in range(T):\n",
    "    np.dot(a,b)\n",
    "after = datetime.now()\n",
    "fast_execution_time = after - before\n",
    "\n",
    "print(slow_execution_time / fast_execution_time)"
   ]
  },
  {
   "cell_type": "markdown",
   "metadata": {
    "id": "SRAoKI-70QGf"
   },
   "source": [
    "## 5. Matrices\n",
    "1. NumPy Array is better to be used than NumPy Matrix.\n",
    "1. Because NumPy Array can be any dimension, but NumPy Matrix has to be 2-D array.\n",
    "1. Also, NumPy Matrix has to be converted to NumPy Array first before doing any processing."
   ]
  },
  {
   "cell_type": "markdown",
   "metadata": {
    "id": "YLrhfsxo0QGg"
   },
   "source": [
    "### Questions\n",
    "1. Declare a 2x2 matrix using Python List.\n",
    "1. Print the first row using one statement.\n",
    "1. Print one element."
   ]
  },
  {
   "cell_type": "markdown",
   "metadata": {
    "id": "bqb0n6IL0QGg"
   },
   "source": [
    "### Questions \n",
    "1. Declare a 3x3 array using NumPy Array.\n",
    "1. Print a certain element from that array using [ ][ ] and [ , ]\n",
    "1. Print a certain column using a colon notation.\n",
    "1. Apply matrix transpose.\n",
    "1. Apply element-wise exponential on the array.\n",
    "1. Apply element-wise exponential on the NumPy 2d list. It will return a NumPy array.\n",
    "1. Apply element-wise multiplication between 2 2-D NumPy arrays.\n",
    "1. Apply Matrix multiplication between 2 2-D NumPy arrays (dot(), @).\n",
    "1. Apply determinant of an array (np.linalg.det()).\n",
    "1. Apply determinant of an array (np.linalg.inv()). Check the answer is correct.\n",
    "1. Apply trace of an array.\n",
    "1. Get the diagonal elements of an array (matrix to vector).\n",
    "1. Construct a diagonal matrix of a vector (vector to matrix).\n",
    "1. Get the eigen values and vectors (np.linalg.eig()) of a matrix, and check the validity of eigen value decomposition equation using np.allclose() function. \n",
    "- To Get the eigen values and vectors of a symmetric matrix, use (np.linalg.eigh()). And, to check the validity of eigen value decomposition equation, use (np.allclose()) function."
   ]
  },
  {
   "cell_type": "code",
   "execution_count": 23,
   "metadata": {
    "id": "gaPi1tC70QGg",
    "outputId": "65110ce9-5733-488d-c82e-13bbb6fe6ae6"
   },
   "outputs": [
    {
     "data": {
      "text/plain": [
       "array([[1, 2, 3],\n",
       "       [4, 5, 6],\n",
       "       [7, 8, 9]])"
      ]
     },
     "execution_count": 23,
     "metadata": {},
     "output_type": "execute_result"
    }
   ],
   "source": [
    "import numpy as np\n",
    "\n",
    "x = np.array([[1,2,3], [4,5,6], [7,8,9]])\n",
    "x"
   ]
  },
  {
   "cell_type": "code",
   "execution_count": 24,
   "metadata": {
    "id": "R0iEUO8I0QGg",
    "outputId": "4e4af50d-f113-4ab4-d84d-43d10db6eb48"
   },
   "outputs": [
    {
     "name": "stdout",
     "output_type": "stream",
     "text": [
      "8\n"
     ]
    }
   ],
   "source": [
    "print(x[2][1])"
   ]
  },
  {
   "cell_type": "code",
   "execution_count": 25,
   "metadata": {
    "id": "1d7NM1Mr0QGg",
    "outputId": "4f0c44e0-80cc-4e5a-abb0-10863cee83b0"
   },
   "outputs": [
    {
     "data": {
      "text/plain": [
       "8"
      ]
     },
     "execution_count": 25,
     "metadata": {},
     "output_type": "execute_result"
    }
   ],
   "source": [
    "x[2,1]"
   ]
  },
  {
   "cell_type": "code",
   "execution_count": 26,
   "metadata": {
    "id": "V4Tsya0b0QGg",
    "outputId": "17f7f800-ea0b-4cce-ad91-a6b7e923ee78"
   },
   "outputs": [
    {
     "data": {
      "text/plain": [
       "array([2, 5, 8])"
      ]
     },
     "execution_count": 26,
     "metadata": {},
     "output_type": "execute_result"
    }
   ],
   "source": [
    "x[:,1]"
   ]
  },
  {
   "cell_type": "code",
   "execution_count": 27,
   "metadata": {
    "id": "HW2jxeRc0QGh",
    "outputId": "70a9ca18-cc32-4e3e-ba54-0c7de577baf2"
   },
   "outputs": [
    {
     "data": {
      "text/plain": [
       "array([[1, 4, 7],\n",
       "       [2, 5, 8],\n",
       "       [3, 6, 9]])"
      ]
     },
     "execution_count": 27,
     "metadata": {},
     "output_type": "execute_result"
    }
   ],
   "source": [
    "x.T"
   ]
  },
  {
   "cell_type": "code",
   "execution_count": 28,
   "metadata": {
    "id": "0LH16snB0QGh",
    "outputId": "39cc72c8-713d-466c-b00a-cb3a12ec15e6"
   },
   "outputs": [
    {
     "data": {
      "text/plain": [
       "array([[2.71828183e+00, 7.38905610e+00, 2.00855369e+01],\n",
       "       [5.45981500e+01, 1.48413159e+02, 4.03428793e+02],\n",
       "       [1.09663316e+03, 2.98095799e+03, 8.10308393e+03]])"
      ]
     },
     "execution_count": 28,
     "metadata": {},
     "output_type": "execute_result"
    }
   ],
   "source": [
    "np.exp(x)"
   ]
  },
  {
   "cell_type": "code",
   "execution_count": 29,
   "metadata": {
    "id": "ReCrL5NZ0QGh",
    "outputId": "4360967d-a517-48aa-e14b-e469ccfde17c"
   },
   "outputs": [
    {
     "data": {
      "text/plain": [
       "array([[2.71828183e+00, 7.38905610e+00, 2.00855369e+01],\n",
       "       [5.45981500e+01, 1.48413159e+02, 4.03428793e+02],\n",
       "       [1.09663316e+03, 2.98095799e+03, 8.10308393e+03]])"
      ]
     },
     "execution_count": 29,
     "metadata": {},
     "output_type": "execute_result"
    }
   ],
   "source": [
    "a = [[1,2,3], [4,5,6], [7,8,9]]\n",
    "np.exp(a)"
   ]
  },
  {
   "cell_type": "code",
   "execution_count": 30,
   "metadata": {
    "id": "YeLvYLVx0QGh",
    "outputId": "694dad4c-5d84-4eb4-c5f9-5ef18b9ffe9c"
   },
   "outputs": [
    {
     "data": {
      "text/plain": [
       "array([[ 1,  4,  9],\n",
       "       [16, 25, 36],\n",
       "       [49, 64, 81]])"
      ]
     },
     "execution_count": 30,
     "metadata": {},
     "output_type": "execute_result"
    }
   ],
   "source": [
    "y = np.array([[1,2,3], [4,5,6], [7,8,9]])\n",
    "x * y"
   ]
  },
  {
   "cell_type": "code",
   "execution_count": 31,
   "metadata": {
    "id": "b-8-r5wd0QGh",
    "outputId": "a2219c7f-eb4f-4c4e-dc99-9b9885204215"
   },
   "outputs": [
    {
     "data": {
      "text/plain": [
       "array([[ 30,  36,  42],\n",
       "       [ 66,  81,  96],\n",
       "       [102, 126, 150]])"
      ]
     },
     "execution_count": 31,
     "metadata": {},
     "output_type": "execute_result"
    }
   ],
   "source": [
    "x.dot(y)"
   ]
  },
  {
   "cell_type": "code",
   "execution_count": 32,
   "metadata": {
    "id": "m81rYsqY0QGi",
    "outputId": "c4506c94-8ccf-4a51-c390-7d05c50eb5d1"
   },
   "outputs": [
    {
     "data": {
      "text/plain": [
       "-2.0000000000000004"
      ]
     },
     "execution_count": 32,
     "metadata": {},
     "output_type": "execute_result"
    }
   ],
   "source": [
    "z = np.array([[1,2], [3,4]])\n",
    "np.linalg.det(z)"
   ]
  },
  {
   "cell_type": "code",
   "execution_count": 33,
   "metadata": {
    "id": "bI_ilGCe0QGi",
    "outputId": "fa0d44e1-c739-4901-d33b-2ec2cd7a90dd"
   },
   "outputs": [
    {
     "data": {
      "text/plain": [
       "array([[-2. ,  1. ],\n",
       "       [ 1.5, -0.5]])"
      ]
     },
     "execution_count": 33,
     "metadata": {},
     "output_type": "execute_result"
    }
   ],
   "source": [
    "np.linalg.inv(z)"
   ]
  },
  {
   "cell_type": "code",
   "execution_count": 34,
   "metadata": {
    "id": "iMbNGGfX0QGi",
    "outputId": "ee03c1ad-8479-4299-9926-cecf05dc1306"
   },
   "outputs": [
    {
     "data": {
      "text/plain": [
       "array([[1.00000000e+00, 1.11022302e-16],\n",
       "       [0.00000000e+00, 1.00000000e+00]])"
      ]
     },
     "execution_count": 34,
     "metadata": {},
     "output_type": "execute_result"
    }
   ],
   "source": [
    "z.dot(np.linalg.inv(z)) "
   ]
  },
  {
   "cell_type": "code",
   "execution_count": 35,
   "metadata": {
    "id": "l-OVfHUs0QGi",
    "outputId": "abf5b93a-ac60-44df-ef8f-945640ad2378"
   },
   "outputs": [
    {
     "data": {
      "text/plain": [
       "5"
      ]
     },
     "execution_count": 35,
     "metadata": {},
     "output_type": "execute_result"
    }
   ],
   "source": [
    "z.trace()"
   ]
  },
  {
   "cell_type": "code",
   "execution_count": 36,
   "metadata": {
    "id": "eWMidG1C0QGi",
    "outputId": "d4c5bd49-c8d5-4f25-a182-7e7a53cbf571"
   },
   "outputs": [
    {
     "data": {
      "text/plain": [
       "array([1, 5, 9])"
      ]
     },
     "execution_count": 36,
     "metadata": {},
     "output_type": "execute_result"
    }
   ],
   "source": [
    "np.diag(x)"
   ]
  },
  {
   "cell_type": "code",
   "execution_count": 37,
   "metadata": {
    "id": "a0siqegO0QGi",
    "outputId": "35495f4b-6815-4dbd-c5ec-4492c9751894"
   },
   "outputs": [
    {
     "data": {
      "text/plain": [
       "array([[1, 0, 0],\n",
       "       [0, 2, 0],\n",
       "       [0, 0, 3]])"
      ]
     },
     "execution_count": 37,
     "metadata": {},
     "output_type": "execute_result"
    }
   ],
   "source": [
    "a = np.array([1,2,3])\n",
    "np.diag(a)"
   ]
  },
  {
   "cell_type": "code",
   "execution_count": 38,
   "metadata": {
    "id": "qwTaAeFD0QGj",
    "outputId": "334f01f1-9e48-402f-90d4-2e99303be005"
   },
   "outputs": [
    {
     "name": "stdout",
     "output_type": "stream",
     "text": [
      "[ 1.61168440e+01 -1.11684397e+00 -3.38433605e-16]\n",
      "[[-0.23197069 -0.78583024  0.40824829]\n",
      " [-0.52532209 -0.08675134 -0.81649658]\n",
      " [-0.8186735   0.61232756  0.40824829]]\n"
     ]
    }
   ],
   "source": [
    "eig_values, eig_vectors = np.linalg.eig(x)\n",
    "print(eig_values)\n",
    "print(eig_vectors)"
   ]
  },
  {
   "cell_type": "code",
   "execution_count": 39,
   "metadata": {
    "id": "dCBnVoRC0QGj",
    "outputId": "b06bd490-cd78-4dda-8f95-f8d6265074a6"
   },
   "outputs": [
    {
     "data": {
      "text/plain": [
       "True"
      ]
     },
     "execution_count": 39,
     "metadata": {},
     "output_type": "execute_result"
    }
   ],
   "source": [
    "np.allclose(x.dot(eig_vectors), eig_vectors @ np.diag(eig_values))"
   ]
  },
  {
   "cell_type": "markdown",
   "metadata": {
    "id": "ZQ4tJUVU0QGj"
   },
   "source": [
    "## 6. Solving Linear Systems\n",
    "### Linear Systems: Example Problem\n",
    "\n",
    "The admission fee at a small fair is \\\\$1.50 for each child and \\\\$4.00 for each adult. On a certain day, 2200 people enter the fair, and \\\\$5050 is collected. How many children and how many adults attended?\n",
    "\n",
    "2 equations, and 2 unknowns.\n",
    "\n",
    "- $ x_1 + x_2 = 2200 $\n",
    "- $ 1.5 x_1 + 4 x_2 = 5050 $"
   ]
  },
  {
   "cell_type": "markdown",
   "metadata": {
    "id": "wKvrXE7x0QGj"
   },
   "source": [
    "### Do not do that literally!\n",
    "- The inverse is slower and less accurate.\n",
    "- There are better algorithms to solve linear systems.\n",
    "\n",
    "```\n",
    "x = np.linalg.solve(A, b) # yes\n",
    "x = np.linalg.inv(A).dot(b) # no\n",
    "```"
   ]
  },
  {
   "cell_type": "code",
   "execution_count": 40,
   "metadata": {
    "id": "mpDWd1cw0QGk",
    "outputId": "5f9d3362-ce63-49fb-a4e5-f7b98e6148ea"
   },
   "outputs": [
    {
     "data": {
      "text/plain": [
       "array([1500.,  700.])"
      ]
     },
     "execution_count": 40,
     "metadata": {},
     "output_type": "execute_result"
    }
   ],
   "source": [
    "import numpy as np\n",
    "\n",
    "A = np.array([[1, 1], [1.5, 4]])\n",
    "b = np.array([2200, 5050])\n",
    "\n",
    "np.linalg.solve(A, b)"
   ]
  },
  {
   "cell_type": "markdown",
   "metadata": {
    "id": "Xje-WnPL0QGk"
   },
   "source": [
    "## 7. Generating Data\n",
    "\n",
    "### Questions\n",
    "1. Create an array of zeros of size (2x3).\n",
    "1. Create an array of ones of size (2x3).\n",
    "1. Create an array of tens of size (2x3).\n",
    "1. Create an identity matrix of size (3x3).\n",
    "1. Generate a random number using random module.\n",
    "1. Generate a random matrix of size (2x3) from the Uniform Distribution [0,1].\n",
    "1. Generate a random matrix of size (2x3) from the Normal Distribution (mean=0, variance=1).\n",
    "1. Generate a random vector of size (10,000) from the Normal Distribution (mean=0, variance=1).\n",
    "1. Calculate the mean of this vector.\n",
    "1. Calculate the variance of this vector.\n",
    "1. Calculate the Standard Deviation of this vector. Chect the correctness of the output.\n",
    "1. Generate a random matrix of size (10,000x3) (observations, measurements) from the Normal Distribution (mean=0, variance=1).\n",
    "1. Calculate the mean of each column.\n",
    "1. Calculate the mean of each row. Print its shape.\n",
    "1. Calculate the Covarience matrix of the matrix transpose. Print its shape.\n",
    "1. Calculate the Covarience matrix of the matrix using rowvar=False. Print its shape.\n",
    "1. Generate a random int matrix of size (3x3) within [0, 10[\n",
    "1. Use choice function to randomly choose (3x3) numbers from [0, 10["
   ]
  },
  {
   "cell_type": "code",
   "execution_count": 41,
   "metadata": {
    "colab": {
     "base_uri": "https://localhost:8080/"
    },
    "id": "izLBgcNv0SiU",
    "outputId": "ff889b05-33af-4ccf-ecc1-c6a5b82b5a4c"
   },
   "outputs": [
    {
     "data": {
      "text/plain": [
       "array([[0., 0., 0.],\n",
       "       [0., 0., 0.]])"
      ]
     },
     "execution_count": 41,
     "metadata": {},
     "output_type": "execute_result"
    }
   ],
   "source": [
    "import numpy as np\n",
    "\n",
    "np.zeros((2,3))"
   ]
  },
  {
   "cell_type": "code",
   "execution_count": 42,
   "metadata": {
    "colab": {
     "base_uri": "https://localhost:8080/"
    },
    "id": "NAkWHOI_0c_o",
    "outputId": "18822ea8-4fce-424b-d261-3827a788a573"
   },
   "outputs": [
    {
     "data": {
      "text/plain": [
       "array([[1., 1., 1.],\n",
       "       [1., 1., 1.]])"
      ]
     },
     "execution_count": 42,
     "metadata": {},
     "output_type": "execute_result"
    }
   ],
   "source": [
    "np.ones((2,3))"
   ]
  },
  {
   "cell_type": "code",
   "execution_count": 43,
   "metadata": {
    "colab": {
     "base_uri": "https://localhost:8080/"
    },
    "id": "QyBer9K_0gc6",
    "outputId": "e67abbe6-2f54-44ad-fef6-fef7b54e9998"
   },
   "outputs": [
    {
     "data": {
      "text/plain": [
       "array([[10., 10., 10.],\n",
       "       [10., 10., 10.]])"
      ]
     },
     "execution_count": 43,
     "metadata": {},
     "output_type": "execute_result"
    }
   ],
   "source": [
    "10 * np.ones((2,3))"
   ]
  },
  {
   "cell_type": "code",
   "execution_count": 44,
   "metadata": {
    "colab": {
     "base_uri": "https://localhost:8080/"
    },
    "id": "dKPXstHj0k32",
    "outputId": "4fba6fe3-dd3e-44b2-c8a5-318f04460894"
   },
   "outputs": [
    {
     "data": {
      "text/plain": [
       "array([[1., 0., 0.],\n",
       "       [0., 1., 0.],\n",
       "       [0., 0., 1.]])"
      ]
     },
     "execution_count": 44,
     "metadata": {},
     "output_type": "execute_result"
    }
   ],
   "source": [
    "np.eye(3)"
   ]
  },
  {
   "cell_type": "code",
   "execution_count": 45,
   "metadata": {
    "colab": {
     "base_uri": "https://localhost:8080/"
    },
    "id": "Dslx6cSA0rhN",
    "outputId": "2ba3d3dc-1f4e-40b1-98ff-0da66ecbca1e"
   },
   "outputs": [
    {
     "data": {
      "text/plain": [
       "0.30087709586783795"
      ]
     },
     "execution_count": 45,
     "metadata": {},
     "output_type": "execute_result"
    }
   ],
   "source": [
    "np.random.random()"
   ]
  },
  {
   "cell_type": "code",
   "execution_count": 46,
   "metadata": {
    "colab": {
     "base_uri": "https://localhost:8080/"
    },
    "id": "B8i0Tu6T0wxf",
    "outputId": "5e3fe60d-320d-4d40-dfbe-62b6f3f5db08"
   },
   "outputs": [
    {
     "data": {
      "text/plain": [
       "array([[0.55615787, 0.11562383, 0.73755509],\n",
       "       [0.95297875, 0.23153665, 0.1814484 ]])"
      ]
     },
     "execution_count": 46,
     "metadata": {},
     "output_type": "execute_result"
    }
   ],
   "source": [
    "np.random.random((2,3))"
   ]
  },
  {
   "cell_type": "code",
   "execution_count": 47,
   "metadata": {
    "colab": {
     "base_uri": "https://localhost:8080/"
    },
    "id": "SInJ4Y6f012M",
    "outputId": "7f4f6bab-5d6e-48ab-8c4a-9a9ad3f41453"
   },
   "outputs": [
    {
     "data": {
      "text/plain": [
       "array([[-0.57484303, -0.6040536 , -0.60025974],\n",
       "       [-0.9226913 ,  1.7439405 ,  2.16489853]])"
      ]
     },
     "execution_count": 47,
     "metadata": {},
     "output_type": "execute_result"
    }
   ],
   "source": [
    "np.random.randn(2,3)"
   ]
  },
  {
   "cell_type": "code",
   "execution_count": 48,
   "metadata": {
    "id": "9mB_Yer0093k"
   },
   "outputs": [],
   "source": [
    "x = np.random.randn(10000)"
   ]
  },
  {
   "cell_type": "code",
   "execution_count": 49,
   "metadata": {
    "colab": {
     "base_uri": "https://localhost:8080/"
    },
    "id": "iGzJE41u1E9y",
    "outputId": "c21421db-f59c-468a-dddc-a100449a8e8b"
   },
   "outputs": [
    {
     "data": {
      "text/plain": [
       "-0.011245871539846991"
      ]
     },
     "execution_count": 49,
     "metadata": {},
     "output_type": "execute_result"
    }
   ],
   "source": [
    "np.mean(x)"
   ]
  },
  {
   "cell_type": "code",
   "execution_count": 50,
   "metadata": {
    "colab": {
     "base_uri": "https://localhost:8080/"
    },
    "id": "-lXmwWAy1HCP",
    "outputId": "9de38dda-4a03-47ab-dc09-740fb533654e"
   },
   "outputs": [
    {
     "data": {
      "text/plain": [
       "1.0013840909392984"
      ]
     },
     "execution_count": 50,
     "metadata": {},
     "output_type": "execute_result"
    }
   ],
   "source": [
    "np.var(x)"
   ]
  },
  {
   "cell_type": "code",
   "execution_count": 51,
   "metadata": {
    "colab": {
     "base_uri": "https://localhost:8080/"
    },
    "id": "GbGXDWOd1KWy",
    "outputId": "9f8085b4-9329-4a78-e930-f76fa5d1d477"
   },
   "outputs": [
    {
     "data": {
      "text/plain": [
       "1.0006918061717596"
      ]
     },
     "execution_count": 51,
     "metadata": {},
     "output_type": "execute_result"
    }
   ],
   "source": [
    "np.std(x)"
   ]
  },
  {
   "cell_type": "code",
   "execution_count": 52,
   "metadata": {
    "colab": {
     "base_uri": "https://localhost:8080/"
    },
    "id": "5kKoWEmD1SPa",
    "outputId": "932ca696-34c2-4ddc-86c4-3b03fdc851f8"
   },
   "outputs": [
    {
     "data": {
      "text/plain": [
       "True"
      ]
     },
     "execution_count": 52,
     "metadata": {},
     "output_type": "execute_result"
    }
   ],
   "source": [
    "np.std(x) == np.sqrt(np.var(x))"
   ]
  },
  {
   "cell_type": "code",
   "execution_count": 53,
   "metadata": {
    "colab": {
     "base_uri": "https://localhost:8080/"
    },
    "id": "Tf28hO3a1c8M",
    "outputId": "0df59616-e7ab-4a6b-b2aa-8da7d908a287"
   },
   "outputs": [
    {
     "data": {
      "text/plain": [
       "True"
      ]
     },
     "execution_count": 53,
     "metadata": {},
     "output_type": "execute_result"
    }
   ],
   "source": [
    "np.allclose(np.std(x), np.sqrt(np.var(x)))"
   ]
  },
  {
   "cell_type": "code",
   "execution_count": 54,
   "metadata": {
    "id": "pZ027Vgg1tcU"
   },
   "outputs": [],
   "source": [
    "x = np.random.randn(10000, 3)"
   ]
  },
  {
   "cell_type": "code",
   "execution_count": 55,
   "metadata": {
    "colab": {
     "base_uri": "https://localhost:8080/"
    },
    "id": "57Cpsmt_15Na",
    "outputId": "d8d52b9e-0b00-442e-8231-2c61ed0b6716"
   },
   "outputs": [
    {
     "data": {
      "text/plain": [
       "array([ 0.00765856, -0.00236475,  0.00113244])"
      ]
     },
     "execution_count": 55,
     "metadata": {},
     "output_type": "execute_result"
    }
   ],
   "source": [
    "np.mean(x, axis=0)"
   ]
  },
  {
   "cell_type": "code",
   "execution_count": 56,
   "metadata": {
    "colab": {
     "base_uri": "https://localhost:8080/"
    },
    "id": "jUg0MDmp2C8K",
    "outputId": "3177ff0f-4dc7-47a0-a3a7-13916cbc0125"
   },
   "outputs": [
    {
     "data": {
      "text/plain": [
       "(10000,)"
      ]
     },
     "execution_count": 56,
     "metadata": {},
     "output_type": "execute_result"
    }
   ],
   "source": [
    "np.mean(x, axis=1).shape"
   ]
  },
  {
   "cell_type": "code",
   "execution_count": 57,
   "metadata": {
    "colab": {
     "base_uri": "https://localhost:8080/"
    },
    "id": "2wdbpWzh2qSk",
    "outputId": "78fdf04d-9cd4-459f-a6cc-81900c0cb274"
   },
   "outputs": [
    {
     "data": {
      "text/plain": [
       "array([[ 0.99077244,  0.00487418, -0.01392852],\n",
       "       [ 0.00487418,  1.01437346, -0.00199158],\n",
       "       [-0.01392852, -0.00199158,  1.01550615]])"
      ]
     },
     "execution_count": 57,
     "metadata": {},
     "output_type": "execute_result"
    }
   ],
   "source": [
    "np.cov(x.T)"
   ]
  },
  {
   "cell_type": "code",
   "execution_count": 58,
   "metadata": {
    "colab": {
     "base_uri": "https://localhost:8080/"
    },
    "id": "d99G8xTX2t6f",
    "outputId": "6df029ad-589f-450c-c6cc-7a728b84e550"
   },
   "outputs": [
    {
     "data": {
      "text/plain": [
       "(3, 3)"
      ]
     },
     "execution_count": 58,
     "metadata": {},
     "output_type": "execute_result"
    }
   ],
   "source": [
    "np.cov(x.T).shape"
   ]
  },
  {
   "cell_type": "code",
   "execution_count": 59,
   "metadata": {
    "colab": {
     "base_uri": "https://localhost:8080/"
    },
    "id": "ZpAAMyO02y1E",
    "outputId": "a8492467-b3d6-4064-bd1f-6dddc91a07e4"
   },
   "outputs": [
    {
     "data": {
      "text/plain": [
       "array([[ 0.99077244,  0.00487418, -0.01392852],\n",
       "       [ 0.00487418,  1.01437346, -0.00199158],\n",
       "       [-0.01392852, -0.00199158,  1.01550615]])"
      ]
     },
     "execution_count": 59,
     "metadata": {},
     "output_type": "execute_result"
    }
   ],
   "source": [
    "np.cov(x, rowvar=False)"
   ]
  },
  {
   "cell_type": "code",
   "execution_count": 60,
   "metadata": {
    "colab": {
     "base_uri": "https://localhost:8080/"
    },
    "id": "OHwr0wkI272s",
    "outputId": "df9ae614-6a58-4710-9395-845be6c99ecc"
   },
   "outputs": [
    {
     "data": {
      "text/plain": [
       "(3, 3)"
      ]
     },
     "execution_count": 60,
     "metadata": {},
     "output_type": "execute_result"
    }
   ],
   "source": [
    "np.cov(x, rowvar=False).shape"
   ]
  },
  {
   "cell_type": "code",
   "execution_count": 61,
   "metadata": {
    "colab": {
     "base_uri": "https://localhost:8080/"
    },
    "id": "vgv6lhhp3Ex5",
    "outputId": "755e5231-3cdc-4a8e-99aa-159681c2145e"
   },
   "outputs": [
    {
     "data": {
      "text/plain": [
       "array([[2, 9, 9],\n",
       "       [5, 1, 6],\n",
       "       [6, 2, 9]])"
      ]
     },
     "execution_count": 61,
     "metadata": {},
     "output_type": "execute_result"
    }
   ],
   "source": [
    "np.random.randint(0, 10, size=(3,3))"
   ]
  },
  {
   "cell_type": "code",
   "execution_count": 62,
   "metadata": {
    "colab": {
     "base_uri": "https://localhost:8080/"
    },
    "id": "YpYMVMnC3Qvv",
    "outputId": "2acbeded-8a80-40ac-f86d-892c6cf5a209"
   },
   "outputs": [
    {
     "data": {
      "text/plain": [
       "array([[1, 6, 6],\n",
       "       [7, 2, 3],\n",
       "       [7, 0, 2]])"
      ]
     },
     "execution_count": 62,
     "metadata": {},
     "output_type": "execute_result"
    }
   ],
   "source": [
    "np.random.choice(np.arange(10), size=(3,3))"
   ]
  },
  {
   "cell_type": "code",
   "execution_count": 63,
   "metadata": {
    "colab": {
     "base_uri": "https://localhost:8080/"
    },
    "id": "lToRzVWc4OFu",
    "outputId": "ba9f7b45-d6dc-4c10-84cf-b2e9f0334039"
   },
   "outputs": [
    {
     "data": {
      "text/plain": [
       "array([[5, 4, 4],\n",
       "       [0, 5, 4],\n",
       "       [5, 1, 8]])"
      ]
     },
     "execution_count": 63,
     "metadata": {},
     "output_type": "execute_result"
    }
   ],
   "source": [
    "np.random.choice(10, size=(3,3))"
   ]
  }
 ],
 "metadata": {
  "colab": {
   "collapsed_sections": [
    "VFvfiRPv0QGd",
    "YLrhfsxo0QGg",
    "bqb0n6IL0QGg",
    "wKvrXE7x0QGj"
   ],
   "name": "Section 2 - NumPy.ipynb",
   "provenance": []
  },
  "kernelspec": {
   "display_name": "Python 3 (ipykernel)",
   "language": "python",
   "name": "python3"
  },
  "language_info": {
   "codemirror_mode": {
    "name": "ipython",
    "version": 3
   },
   "file_extension": ".py",
   "mimetype": "text/x-python",
   "name": "python",
   "nbconvert_exporter": "python",
   "pygments_lexer": "ipython3",
   "version": "3.9.13"
  }
 },
 "nbformat": 4,
 "nbformat_minor": 1
}
